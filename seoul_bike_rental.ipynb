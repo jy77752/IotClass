{
  "nbformat": 4,
  "nbformat_minor": 0,
  "metadata": {
    "colab": {
      "provenance": []
    },
    "kernelspec": {
      "name": "python3",
      "display_name": "Python 3"
    },
    "language_info": {
      "name": "python"
    }
  },
  "cells": [
    {
      "cell_type": "code",
      "execution_count": 5,
      "metadata": {
        "colab": {
          "base_uri": "https://localhost:8080/"
        },
        "id": "Dz7PToQm-Q5Q",
        "outputId": "0333a9bc-f2db-4eaa-f54f-267040680c67"
      },
      "outputs": [
        {
          "output_type": "stream",
          "name": "stdout",
          "text": [
            "           stationName  shared\n",
            "325  529. 장한평역 8번 출구 앞     650\n",
            "230  407. 마포구 육아종합지원센터     575\n",
            "961    1455. 상봉역 2번 출구     520\n",
            "469      746. 목동2단지 상가     510\n",
            "483     765. 오목교역 3번출구     500\n",
            "377       602. 장안동 사거리     480\n",
            "68          186. 월드컵공원     475\n",
            "132    268. 그랜드컨벤션센터 앞     467\n",
            "795     1218. 방이역 4번출구     450\n",
            "64     182. 망원2빗물펌프장 앞     444\n"
          ]
        }
      ],
      "source": [
        "import requests\n",
        "import pandas as pd\n",
        "\n",
        "# 1~1000 데이터 호출 (회원가입 안됨 이슈로 샘플 url 사용합니다ㅠㅠ)\n",
        "url = 'http://openapi.seoul.go.kr:8088/456a56544f656b793937556c776c77/json/bikeList/1/1000/'\n",
        "r = requests.get(url)\n",
        "data = r.json()['rentBikeStatus']['row']\n",
        "\n",
        "# DataFrame으로 변환\n",
        "df = pd.DataFrame(data)\n",
        "\n",
        "# shared를 숫자로 변환\n",
        "df['shared'] = df['shared'].astype(int)\n",
        "\n",
        "# shared 기준 내림차순 정렬 후 Top 10\n",
        "top10 = df.sort_values(by='shared', ascending=False).head(10)\n",
        "\n",
        "# 결과 출력\n",
        "print(top10[['stationName', 'shared']])"
      ]
    }
  ]
}